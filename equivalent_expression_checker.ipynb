{
 "cells": [
  {
   "cell_type": "code",
   "execution_count": 16,
   "metadata": {},
   "outputs": [],
   "source": [
    "def func1(x):\n",
    "    if(x == 0):\n",
    "        return 0\n",
    "    return (x*(1+(1/x)))**2\n",
    "    \n",
    "def func2(x):\n",
    "    if(x == 0):\n",
    "        return 0\n",
    "    return (x**2) * (1+(1/x))**2\n"
   ]
  },
  {
   "cell_type": "code",
   "execution_count": 17,
   "metadata": {},
   "outputs": [],
   "source": [
    "check_input = 1000000\n",
    "\n",
    "for i in range(-check_input,check_input):\n",
    "    output1 = func1(i)\n",
    "    output2 = func2(i)\n",
    "    if(math.isclose(output1, output2, abs_tol=0.1) == False):\n",
    "        print('false at ',i)\n",
    "        print('output1',output1)\n",
    "        print('output2',output2)\n",
    "        break"
   ]
  },
  {
   "cell_type": "code",
   "execution_count": 12,
   "metadata": {},
   "outputs": [
    {
     "data": {
      "text/plain": [
       "False"
      ]
     },
     "execution_count": 12,
     "metadata": {},
     "output_type": "execute_result"
    }
   ],
   "source": [
    "import math\n",
    "\n",
    "a = 5.0\n",
    "\n",
    "b = 4.9998\n",
    "\n",
    "math.isclose(a, b, abs_tol=0.00003)\n"
   ]
  }
 ],
 "metadata": {
  "kernelspec": {
   "display_name": "Python 3",
   "language": "python",
   "name": "python3"
  },
  "language_info": {
   "codemirror_mode": {
    "name": "ipython",
    "version": 3
   },
   "file_extension": ".py",
   "mimetype": "text/x-python",
   "name": "python",
   "nbconvert_exporter": "python",
   "pygments_lexer": "ipython3",
   "version": "3.8.5"
  }
 },
 "nbformat": 4,
 "nbformat_minor": 4
}
