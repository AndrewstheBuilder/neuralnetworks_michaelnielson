{
 "cells": [
  {
   "cell_type": "code",
   "execution_count": 1,
   "metadata": {},
   "outputs": [],
   "source": [
    "def func1(x):\n",
    "    return (x*(1+(1/x)))**2\n",
    "    \n",
    "def func2(x):\n",
    "    return (x**2) * (1+(1/x))**2\n"
   ]
  },
  {
   "cell_type": "code",
   "execution_count": 8,
   "metadata": {},
   "outputs": [
    {
     "name": "stdout",
     "output_type": "stream",
     "text": [
      "false at  -99\n",
      "output1 9604.0\n",
      "output2 9604.000000000002\n"
     ]
    }
   ],
   "source": [
    "check_input = 1000000\n",
    "\n",
    "for i in range(-check_input,check_input):\n",
    "    output1 = func1(i)\n",
    "    output2 = func2(i)\n",
    "    if(output1 != output2):\n",
    "        print('false at ',i)\n",
    "        print('output1',output1)\n",
    "        print('output2',output2)\n",
    "        break"
   ]
  }
 ],
 "metadata": {
  "kernelspec": {
   "display_name": "Python 3",
   "language": "python",
   "name": "python3"
  },
  "language_info": {
   "codemirror_mode": {
    "name": "ipython",
    "version": 3
   },
   "file_extension": ".py",
   "mimetype": "text/x-python",
   "name": "python",
   "nbconvert_exporter": "python",
   "pygments_lexer": "ipython3",
   "version": "3.8.5"
  }
 },
 "nbformat": 4,
 "nbformat_minor": 4
}
